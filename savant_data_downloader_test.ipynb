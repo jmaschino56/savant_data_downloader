{
 "cells": [
  {
   "cell_type": "markdown",
   "metadata": {},
   "source": [
    "Import Savant Data Download Library"
   ]
  },
  {
   "cell_type": "code",
   "execution_count": 1,
   "metadata": {},
   "outputs": [],
   "source": [
    "import savant_data_downloader as sdd\n",
    "import polars as pl"
   ]
  },
  {
   "cell_type": "markdown",
   "metadata": {},
   "source": [
    "Helper function to make life a litte easier as start is the spring training start dates and end is the end of the last potential world series game"
   ]
  },
  {
   "cell_type": "code",
   "execution_count": 2,
   "metadata": {},
   "outputs": [],
   "source": [
    "def get_season_dates(season, date_type):\n",
    "    dates = {\n",
    "        \"start\": {\n",
    "            2020: '2020-3-18',\n",
    "            2021: '2021-3-18',\n",
    "            2022: '2022-3-18',\n",
    "            2023: '2023-3-18',\n",
    "            2024: '2024-3-18',\n",
    "        },\n",
    "        \"end\": {\n",
    "            2020: '2020-11-1',\n",
    "            2021: '2021-11-3',\n",
    "            2022: '2022-11-6',\n",
    "            2023: '2023-11-5',\n",
    "            2024: '2024-11-2',\n",
    "        }\n",
    "    }\n",
    "    # Default values if the season isn't in the dictionary\n",
    "    default_dates = {\"start\": '2024-2-18', \"end\": '2024-11-2'}\n",
    "    \n",
    "    return dates.get(date_type, {}).get(season, default_dates[date_type])\n"
   ]
  },
  {
   "cell_type": "markdown",
   "metadata": {},
   "source": [
    "Testing the savant data downloader - the function get_new_data is the one you want to use"
   ]
  },
  {
   "cell_type": "code",
   "execution_count": null,
   "metadata": {},
   "outputs": [
    {
     "name": "stdout",
     "output_type": "stream",
     "text": [
      "Collecting 2024 data\n"
     ]
    },
    {
     "name": "stderr",
     "output_type": "stream",
     "text": [
      "Fetching Statcast Data: 100%|██████████| 230/230 [00:11<00:00, 20.89it/s]\n"
     ]
    }
   ],
   "source": [
    "start_season = 2020\n",
    "end_season = 2024\n",
    "\n",
    "for season in range(end_season, start_season - 1, -1):\n",
    "    print(f\"Collecting {season} data\")\n",
    "    data = sdd.get_new_data(get_season_dates(season, \"start\"), get_season_dates(season, \"end\"))\n",
    "    data.describe()\n",
    "    print(f\"Collected {season} data\")"
   ]
  }
 ],
 "metadata": {
  "kernelspec": {
   "display_name": "Python 3",
   "language": "python",
   "name": "python3"
  },
  "language_info": {
   "codemirror_mode": {
    "name": "ipython",
    "version": 3
   },
   "file_extension": ".py",
   "mimetype": "text/x-python",
   "name": "python",
   "nbconvert_exporter": "python",
   "pygments_lexer": "ipython3",
   "version": "3.10.11"
  }
 },
 "nbformat": 4,
 "nbformat_minor": 2
}
